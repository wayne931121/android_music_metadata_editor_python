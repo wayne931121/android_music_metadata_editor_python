{
 "cells": [
  {
   "cell_type": "code",
   "execution_count": 1,
   "id": "7cf09dd1",
   "metadata": {},
   "outputs": [],
   "source": [
    "import eyed3"
   ]
  },
  {
   "cell_type": "code",
   "execution_count": 2,
   "id": "d4f067a6",
   "metadata": {},
   "outputs": [
    {
     "data": {
      "text/plain": [
       "'\\n參考文獻\\nhttps://id3.org/id3v2.4.0-frames\\nhttps://eyed3.readthedocs.io/en/latest/\\nhttps://github.com/nicfit/eyeD3\\nhttps://id3.org/Introduction\\nhttps://id3.org/Implementations\\nhttps://zh.wikipedia.org/zh-tw/ID3\\nhttps://en.wikipedia.org/wiki/ID3\\nhttps://github.com/nicfit/eyeD3/issues/569\\nhttps://stackoverflow.com/questions/38510694/how-to-add-album-art-to-mp3-file-using-python-3\\nhttps://stackoverflow.com/questions/63144242/how-to-get-artwork-into-tkinter-image-using-eyed3\\nhttps://hydrogenaud.io/index.php?topic=112375.0\\nhttps://github.com/nicfit/eyeD3/issues/139\\nhttps://github.com/nicfit/eyeD3/blob/master/eyed3/id3/tag.py#L558\\nhttps://www.mediamonkey.com/support/knowledge-base/mediamonkey-tagging-organizing/how-to-configure-which-id3-tags-are-used-for-year-date/\\n'"
      ]
     },
     "execution_count": 2,
     "metadata": {},
     "output_type": "execute_result"
    }
   ],
   "source": [
    "\"\"\"\n",
    "參考文獻\n",
    "https://id3.org/id3v2.4.0-frames\n",
    "https://eyed3.readthedocs.io/en/latest/\n",
    "https://github.com/nicfit/eyeD3\n",
    "https://id3.org/Introduction\n",
    "https://id3.org/Implementations\n",
    "https://zh.wikipedia.org/zh-tw/ID3\n",
    "https://en.wikipedia.org/wiki/ID3\n",
    "https://github.com/nicfit/eyeD3/issues/569\n",
    "https://stackoverflow.com/questions/38510694/how-to-add-album-art-to-mp3-file-using-python-3\n",
    "https://stackoverflow.com/questions/63144242/how-to-get-artwork-into-tkinter-image-using-eyed3\n",
    "https://hydrogenaud.io/index.php?topic=112375.0\n",
    "https://github.com/nicfit/eyeD3/issues/139\n",
    "https://github.com/nicfit/eyeD3/blob/master/eyed3/id3/tag.py#L558\n",
    "https://www.mediamonkey.com/support/knowledge-base/mediamonkey-tagging-organizing/how-to-configure-which-id3-tags-are-used-for-year-date/\n",
    "\"\"\""
   ]
  },
  {
   "cell_type": "code",
   "execution_count": 46,
   "id": "17743780",
   "metadata": {},
   "outputs": [],
   "source": [
    "mp3 = eyed3.load('1.mp3')\n",
    "mp = eyed3.load('m.mp3')"
   ]
  },
  {
   "cell_type": "code",
   "execution_count": 35,
   "id": "de829e6e",
   "metadata": {},
   "outputs": [],
   "source": [
    "for e in list(mp3.tag.images):\n",
    "    #print(e.picture_type)\n",
    "    with open(str(e.picture_type)+\".\"+e.mime_type.split(\"\\\\\")[-1].split(\"/\")[-1], \"wb\") as f:\n",
    "        f.write(e.image_data)"
   ]
  },
  {
   "cell_type": "code",
   "execution_count": 27,
   "id": "7ad42098",
   "metadata": {},
   "outputs": [
    {
     "name": "stdout",
     "output_type": "stream",
     "text": [
      "None\n",
      "None\n",
      "None\n",
      "None\n",
      "(None, None)\n"
     ]
    }
   ],
   "source": [
    "print(mp3.tag.artist)\n",
    "print(mp3.tag.album)\n",
    "print(mp3.tag.album_artist)\n",
    "print(mp3.tag.title)\n",
    "print(mp3.tag.track_num)\n",
    "# Ft.Jonathan Sobisol\n",
    "# None\n",
    "# None\n",
    "# Nightcore   Light It Up Lyrics\n",
    "# (None, None)"
   ]
  },
  {
   "cell_type": "code",
   "execution_count": 28,
   "id": "2ebe2f6a",
   "metadata": {
    "scrolled": false
   },
   "outputs": [],
   "source": [
    "# for i in dir(mp3.tag):\n",
    "#     exec(\"print(\\\"{0}\\\", mp3.tag.{0})\".format(i))\n",
    "#     print()"
   ]
  },
  {
   "cell_type": "code",
   "execution_count": null,
   "id": "d5d91ef1",
   "metadata": {},
   "outputs": [],
   "source": [
    "mp3 = eyed3.load('A.mp3')"
   ]
  },
  {
   "cell_type": "code",
   "execution_count": 59,
   "id": "1be1819c",
   "metadata": {
    "scrolled": false
   },
   "outputs": [
    {
     "data": {
      "text/plain": [
       "['__class__',\n",
       " '__delattr__',\n",
       " '__dict__',\n",
       " '__dir__',\n",
       " '__doc__',\n",
       " '__eq__',\n",
       " '__format__',\n",
       " '__ge__',\n",
       " '__getattribute__',\n",
       " '__gt__',\n",
       " '__hash__',\n",
       " '__init__',\n",
       " '__init_subclass__',\n",
       " '__le__',\n",
       " '__lt__',\n",
       " '__module__',\n",
       " '__ne__',\n",
       " '__new__',\n",
       " '__reduce__',\n",
       " '__reduce_ex__',\n",
       " '__repr__',\n",
       " '__setattr__',\n",
       " '__sizeof__',\n",
       " '__str__',\n",
       " '__subclasshook__',\n",
       " '__weakref__',\n",
       " '_chapters',\n",
       " '_checkForConversions',\n",
       " '_comments',\n",
       " '_convertFrames',\n",
       " '_convertFrames_v1',\n",
       " '_getAlbum',\n",
       " '_getAlbumArtist',\n",
       " '_getArtist',\n",
       " '_getBpm',\n",
       " '_getComposer',\n",
       " '_getCopyright',\n",
       " '_getDate',\n",
       " '_getDiscNum',\n",
       " '_getEncodedBy',\n",
       " '_getEncodingDate',\n",
       " '_getGenre',\n",
       " '_getNonStdGenre',\n",
       " '_getOrigArtist',\n",
       " '_getOrigReleaseDate',\n",
       " '_getOriginalReleaseDate',\n",
       " '_getPublisher',\n",
       " '_getRecordingDate',\n",
       " '_getReleaseDate',\n",
       " '_getTaggingDate',\n",
       " '_getTitle',\n",
       " '_getTrackNum',\n",
       " '_getUrlFrame',\n",
       " '_getV23OriginalReleaseDate',\n",
       " '_getV23RecordingDate',\n",
       " '_images',\n",
       " '_loadV1Tag',\n",
       " '_loadV2Tag',\n",
       " '_lyrics',\n",
       " '_objects',\n",
       " '_popularities',\n",
       " '_privates',\n",
       " '_raiseIfReadonly',\n",
       " '_render',\n",
       " '_saveV1Tag',\n",
       " '_saveV2Tag',\n",
       " '_setAlbum',\n",
       " '_setAlbumArtist',\n",
       " '_setArtist',\n",
       " '_setBpm',\n",
       " '_setComposer',\n",
       " '_setCopyright',\n",
       " '_setDate',\n",
       " '_setDiscNum',\n",
       " '_setEncodedBy',\n",
       " '_setEncodingDate',\n",
       " '_setGenre',\n",
       " '_setNonStdGenre',\n",
       " '_setNum',\n",
       " '_setOrigArtist',\n",
       " '_setOrigReleaseDate',\n",
       " '_setOriginalReleaseDate',\n",
       " '_setPublisher',\n",
       " '_setRecordingDate',\n",
       " '_setReleaseDate',\n",
       " '_setTaggingDate',\n",
       " '_setTitle',\n",
       " '_setTrackNum',\n",
       " '_setUrlFrame',\n",
       " '_splitNum',\n",
       " '_tocs',\n",
       " '_unique_file_ids',\n",
       " '_user_texts',\n",
       " '_user_urls',\n",
       " 'album',\n",
       " 'album_artist',\n",
       " 'album_type',\n",
       " 'artist',\n",
       " 'artist_origin',\n",
       " 'artist_url',\n",
       " 'audio_file_url',\n",
       " 'audio_source_url',\n",
       " 'best_release_date',\n",
       " 'bpm',\n",
       " 'cd_id',\n",
       " 'chapters',\n",
       " 'clear',\n",
       " 'comments',\n",
       " 'commercial_url',\n",
       " 'composer',\n",
       " 'copyright',\n",
       " 'copyright_url',\n",
       " 'disc_num',\n",
       " 'encoded_by',\n",
       " 'encoding_date',\n",
       " 'extended_header',\n",
       " 'file_info',\n",
       " 'frame_set',\n",
       " 'frameiter',\n",
       " 'genre',\n",
       " 'getBestDate',\n",
       " 'getTextFrame',\n",
       " 'header',\n",
       " 'images',\n",
       " 'internet_radio_url',\n",
       " 'isV1',\n",
       " 'isV2',\n",
       " 'lyrics',\n",
       " 'non_std_genre',\n",
       " 'objects',\n",
       " 'original_artist',\n",
       " 'original_release_date',\n",
       " 'parse',\n",
       " 'payment_url',\n",
       " 'play_count',\n",
       " 'popularities',\n",
       " 'privates',\n",
       " 'publisher',\n",
       " 'publisher_url',\n",
       " 'read_only',\n",
       " 'recording_date',\n",
       " 'release_date',\n",
       " 'remove',\n",
       " 'save',\n",
       " 'setTextFrame',\n",
       " 'table_of_contents',\n",
       " 'tagging_date',\n",
       " 'terms_of_use',\n",
       " 'title',\n",
       " 'track_num',\n",
       " 'unique_file_ids',\n",
       " 'user_text_frames',\n",
       " 'user_url_frames',\n",
       " 'version']"
      ]
     },
     "execution_count": 59,
     "metadata": {},
     "output_type": "execute_result"
    }
   ],
   "source": [
    "dir(mp3.tag)"
   ]
  },
  {
   "cell_type": "code",
   "execution_count": 71,
   "id": "5d84ca86",
   "metadata": {},
   "outputs": [
    {
     "data": {
      "text/plain": [
       "<eyed3.id3.frames.CommentFrame at 0x2359ac92be0>"
      ]
     },
     "execution_count": 71,
     "metadata": {},
     "output_type": "execute_result"
    }
   ],
   "source": [
    "mp3.tag.comments.set(\"g1555\")"
   ]
  },
  {
   "cell_type": "code",
   "execution_count": 77,
   "id": "0507dca8",
   "metadata": {},
   "outputs": [
    {
     "data": {
      "text/plain": [
       "'g1555'"
      ]
     },
     "execution_count": 77,
     "metadata": {},
     "output_type": "execute_result"
    }
   ],
   "source": [
    "list(mp3.tag.comments)[0].text"
   ]
  },
  {
   "cell_type": "code",
   "execution_count": 110,
   "id": "9a61b946",
   "metadata": {},
   "outputs": [
    {
     "name": "stdout",
     "output_type": "stream",
     "text": [
      "考097John\n",
      "JJJohn\n",
      "None\n",
      "080Jonn\n",
      "None\n",
      "None\n",
      "None\n",
      "None\n",
      "1997-07-01T00:12:30\n",
      "None\n",
      "None\n",
      "<eyed3.id3.tag.CommentsAccessor object at 0x000002359A46D940>\n",
      "None\n",
      "None\n",
      "None\n",
      "None\n",
      "(None, None)\n",
      "None\n",
      "None\n",
      "<bound method Tag.frameiter of <eyed3.id3.tag.Tag object at 0x000002359A3B74C0>>\n",
      "None\n",
      "<bound method Tag.getBestDate of <eyed3.id3.tag.Tag object at 0x000002359A3B74C0>>\n",
      "<bound method Tag.getTextFrame of <eyed3.id3.tag.Tag object at 0x000002359A3B74C0>>\n",
      "<eyed3.id3.headers.TagHeader object at 0x000002359A3B7310>\n",
      "<eyed3.id3.tag.ImagesAccessor object at 0x000002359ACB1850>\n",
      "None\n",
      "<bound method Tag.isV1 of <eyed3.id3.tag.Tag object at 0x000002359A3B74C0>>\n",
      "<bound method Tag.isV2 of <eyed3.id3.tag.Tag object at 0x000002359A3B74C0>>\n",
      "<eyed3.id3.tag.LyricsAccessor object at 0x000002359ACB1790>\n",
      "None\n",
      "<eyed3.id3.tag.ObjectsAccessor object at 0x000002359ACB17C0>\n",
      "None\n",
      "None\n",
      "<bound method Tag.parse of <eyed3.id3.tag.Tag object at 0x000002359A3B74C0>>\n",
      "None\n",
      "None\n",
      "<eyed3.id3.tag.PopularitiesAccessor object at 0x000002359ACB1760>\n",
      "<eyed3.id3.tag.PrivatesAccessor object at 0x000002359ACB13D0>\n",
      "None\n",
      "None\n",
      "False\n",
      "1997\n",
      "1997-07-01T00:12:30\n",
      "<function Tag.remove at 0x000002359A096820>\n",
      "<bound method Tag.save of <eyed3.id3.tag.Tag object at 0x000002359A3B74C0>>\n",
      "<bound method _requireArgType.<locals>.wrapper.<locals>.wrapped_fn of <eyed3.id3.tag.Tag object at 0x000002359A3B74C0>>\n",
      "<eyed3.id3.tag.TocAccessor object at 0x000002359ACB1580>\n",
      "None\n",
      "None\n",
      "我拉拉拉拉拉拉 拉拉拉拉拉拉拉拉拉拉拉拉\n",
      "(3, None)\n",
      "<eyed3.id3.tag.UniqueFileIdAccessor object at 0x000002359ACB15B0>\n",
      "<eyed3.id3.tag.UserTextsAccessor object at 0x000002359ACB1670>\n",
      "<eyed3.id3.tag.UserUrlsAccessor object at 0x000002359ACB13A0>\n",
      "(2, 4, 0)\n"
     ]
    },
    {
     "name": "stderr",
     "output_type": "stream",
     "text": [
      "<string>:1: DeprecationWarning: Use Tag.getBestDate() instead\n"
     ]
    }
   ],
   "source": [
    "for e in ['album', 'album_artist', 'album_type', 'artist', 'artist_origin', 'artist_url', 'audio_file_url', 'audio_source_url', 'best_release_date', 'bpm', 'cd_id', 'comments', 'commercial_url', 'composer', 'copyright', 'copyright_url', 'disc_num', 'encoded_by', 'encoding_date', 'frameiter', 'genre', 'getBestDate', 'getTextFrame', 'header', 'images', 'internet_radio_url', 'isV1', 'isV2', 'lyrics', 'non_std_genre', 'objects', 'original_artist', 'original_release_date', 'parse', 'payment_url', 'play_count', 'popularities', 'privates', 'publisher', 'publisher_url', 'read_only', 'recording_date', 'release_date', 'remove', 'save', 'setTextFrame', 'table_of_contents', 'tagging_date', 'terms_of_use', 'title', 'track_num', 'unique_file_ids', 'user_text_frames', 'user_url_frames', 'version']:\n",
    "    exec(\"print(mp3.tag.%s)\"%e)"
   ]
  },
  {
   "cell_type": "code",
   "execution_count": 43,
   "id": "ac9c17c4",
   "metadata": {},
   "outputs": [],
   "source": [
    "images = list(mp3.tag.images)\n",
    "image_type = 3\n",
    "file = r\"C:/Users/sky66/Downloads/R.jpg\"\n",
    "mime_type = \"image/jpeg\" if file.split(\".\")[-1]==\"jpg\" or file.split(\".\")[-1]==\"jpeg\" else \"image/png\"\n",
    "\n",
    "for e in images:\n",
    "    if e.picture_type==image_type:\n",
    "        mp3.tag.images.remove(e.description)\n",
    "\n",
    "with open(file, \"rb\") as f:\n",
    "    data = f.read()\n",
    "\n",
    "mp3.tag.images.set(image_type, data, mime_type=mime_type) #, description=\"Album Cover 12%s\"%image_type)\n",
    "\n",
    "None"
   ]
  },
  {
   "cell_type": "code",
   "execution_count": 37,
   "id": "f3a32940",
   "metadata": {},
   "outputs": [],
   "source": [
    "mp3.tag.artist = \"080Jonn\"\n",
    "mp3.tag.album = \"考097John\"\n",
    "mp3.tag.album_artist = \"JJJohn\"\n",
    "mp3.tag.title = \"我拉拉拉拉拉拉 拉拉拉拉拉拉拉拉拉拉拉拉\"\n",
    "mp3.tag.track_num = 3\n",
    "mp3.tag.recording_date = \"1997\"\n",
    "mp3.tag.release_date = \"1997-07-01T00:12:30\""
   ]
  },
  {
   "cell_type": "code",
   "execution_count": 57,
   "id": "a59b5665",
   "metadata": {},
   "outputs": [],
   "source": [
    "mp3.tag = mp.tag"
   ]
  },
  {
   "cell_type": "code",
   "execution_count": 52,
   "id": "5caffbef",
   "metadata": {
    "scrolled": false
   },
   "outputs": [],
   "source": [
    "mp3.tag.save(encoding=\"utf-8\")"
   ]
  },
  {
   "cell_type": "code",
   "execution_count": 58,
   "id": "69894954",
   "metadata": {},
   "outputs": [],
   "source": [
    "mp.tag.save(encoding=\"utf-8\")"
   ]
  },
  {
   "cell_type": "code",
   "execution_count": 53,
   "id": "70c7b990",
   "metadata": {},
   "outputs": [
    {
     "data": {
      "text/plain": [
       "<eyed3.id3.tag.Tag at 0x2359a3b74c0>"
      ]
     },
     "execution_count": 53,
     "metadata": {},
     "output_type": "execute_result"
    }
   ],
   "source": [
    "mp.initTag(version=(2, 4, 0))"
   ]
  },
  {
   "cell_type": "code",
   "execution_count": 56,
   "id": "2cbb1369",
   "metadata": {},
   "outputs": [
    {
     "data": {
      "text/plain": [
       "<eyed3.id3.tag.Tag at 0x2359adfa2e0>"
      ]
     },
     "execution_count": 56,
     "metadata": {},
     "output_type": "execute_result"
    }
   ],
   "source": [
    "mp3.initTag(version=(2, 3, 0))"
   ]
  },
  {
   "cell_type": "code",
   "execution_count": 71,
   "id": "f9dd0e52",
   "metadata": {},
   "outputs": [],
   "source": [
    "mp3.tag._getDate(b\"TIME\")"
   ]
  },
  {
   "cell_type": "code",
   "execution_count": 72,
   "id": "256cc52d",
   "metadata": {},
   "outputs": [],
   "source": [
    "mp3.tag._getDate(b\"TDAT\")"
   ]
  },
  {
   "cell_type": "code",
   "execution_count": 73,
   "id": "73863d33",
   "metadata": {},
   "outputs": [],
   "source": [
    "mp3.tag._getDate(b\"TYER\")"
   ]
  },
  {
   "cell_type": "code",
   "execution_count": 91,
   "id": "be6e7187",
   "metadata": {},
   "outputs": [
    {
     "data": {
      "text/plain": [
       "''"
      ]
     },
     "execution_count": 91,
     "metadata": {},
     "output_type": "execute_result"
    }
   ],
   "source": [
    "list(mp3.tag.images)[0].description"
   ]
  },
  {
   "cell_type": "code",
   "execution_count": 92,
   "id": "0aa33f6a",
   "metadata": {
    "scrolled": true
   },
   "outputs": [
    {
     "data": {
      "text/plain": [
       "3"
      ]
     },
     "execution_count": 92,
     "metadata": {},
     "output_type": "execute_result"
    }
   ],
   "source": [
    "list(mp3.tag.images)[0].picture_type"
   ]
  },
  {
   "cell_type": "code",
   "execution_count": 54,
   "id": "569c672e",
   "metadata": {},
   "outputs": [],
   "source": [
    "mp.tag.artist = \"080Jonn\"\n",
    "mp.tag.album = \"考097John\"\n",
    "mp.tag.album_artist = \"JJJohn\"\n",
    "mp.tag.title = \"我拉拉拉拉拉拉 拉拉拉拉拉拉拉拉拉拉拉拉\"\n",
    "mp.tag.track_num = 3\n",
    "mp.tag.recording_date = \"1997\"\n",
    "mp.tag.release_date = \"1997-07-01T00:12:30\"\n",
    "images = list(mp.tag.images)\n",
    "image_type = 3\n",
    "file = r\"C:/Users/sky66/Downloads/R.jpg\"\n",
    "mime_type = \"image/jpeg\" if file.split(\".\")[-1]==\"jpg\" or file.split(\".\")[-1]==\"jpeg\" else \"image/png\"\n",
    "\n",
    "for e in images:\n",
    "    if e.picture_type==image_type:\n",
    "        mp.tag.images.remove(e.description)\n",
    "\n",
    "with open(file, \"rb\") as f:\n",
    "    data = f.read()\n",
    "\n",
    "mp.tag.images.set(image_type, data, mime_type=mime_type) #, description=\"Album Cover 12%s\"%image_type)\n",
    "\n",
    "None"
   ]
  }
 ],
 "metadata": {
  "kernelspec": {
   "display_name": "Python 3 (ipykernel)",
   "language": "python",
   "name": "python3"
  },
  "language_info": {
   "codemirror_mode": {
    "name": "ipython",
    "version": 3
   },
   "file_extension": ".py",
   "mimetype": "text/x-python",
   "name": "python",
   "nbconvert_exporter": "python",
   "pygments_lexer": "ipython3",
   "version": "3.9.12"
  }
 },
 "nbformat": 4,
 "nbformat_minor": 5
}
